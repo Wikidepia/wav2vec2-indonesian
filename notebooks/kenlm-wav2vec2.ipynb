{
 "cells": [
  {
   "cell_type": "code",
   "execution_count": 1,
   "metadata": {
    "id": "FK0_G-FR8YDV"
   },
   "outputs": [],
   "source": [
    "%%capture\n",
    "!git clone https://github.com/ynop/py-ctc-decode\n",
    "!pip3 install transformers datasets torchaudio jiwer psutil\n",
    "!pip3 install https://github.com/kpu/kenlm/archive/master.zip\n",
    "!wget http://hetzner.depia.wiki/idwiki.arpa"
   ]
  },
  {
   "cell_type": "code",
   "execution_count": 2,
   "metadata": {
    "id": "5hB63kuh8pqh"
   },
   "outputs": [
    {
     "name": "stdout",
     "output_type": "stream",
     "text": [
      "/home/user/py-ctc-decode\n"
     ]
    }
   ],
   "source": [
    "%cd py-ctc-decode"
   ]
  },
  {
   "cell_type": "code",
   "execution_count": 13,
   "metadata": {},
   "outputs": [],
   "source": [
    "vocab = ['m',\n",
    " 'h',\n",
    " 'r',\n",
    " 'e',\n",
    " 'z',\n",
    " 'a',\n",
    " ' ',\n",
    " 'k',\n",
    " 'g',\n",
    " 's',\n",
    " 'x',\n",
    " 'l',\n",
    " 'f',\n",
    " 'b',\n",
    " 'v',\n",
    " 'n',\n",
    " 'c',\n",
    " 'd',\n",
    " 'p',\n",
    " 'o',\n",
    " 't',\n",
    " 'y',\n",
    " 'w',\n",
    " 'i',\n",
    " 'j',\n",
    " 'u',\n",
    " '',\n",
    " '']"
   ]
  },
  {
   "cell_type": "code",
   "execution_count": 17,
   "metadata": {},
   "outputs": [
    {
     "name": "stdout",
     "output_type": "stream",
     "text": [
      "found 1gram\n",
      "found 2gram\n"
     ]
    }
   ],
   "source": [
    "import ctcdecode\n",
    "import numpy as np\n",
    "\n",
    "vocabulary = vocab\n",
    "alpha = 2.5 # LM Weight\n",
    "beta = 0.0 # LM Usage Reward\n",
    "word_lm_scorer = ctcdecode.WordKenLMScorer('idwiki.arpa', alpha, beta)\n",
    "decoder = ctcdecode.BeamSearchDecoder(\n",
    "    vocabulary,\n",
    "    num_workers=6,\n",
    "    beam_width=64,\n",
    "    scorers=[word_lm_scorer],\n",
    "    cutoff_prob=np.log(0.000001),\n",
    "    cutoff_top_n=40\n",
    ")"
   ]
  },
  {
   "cell_type": "code",
   "execution_count": 15,
   "metadata": {
    "id": "yNJJN4Q4K4V7",
    "scrolled": true
   },
   "outputs": [
    {
     "name": "stderr",
     "output_type": "stream",
     "text": [
      "Reusing dataset common_voice (/home/user/.cache/huggingface/datasets/common_voice/id/6.1.0/11f9069cb28d1e9b89bdeb4ad0aabef5bd43213b06f12f3d2349ba39d61968b0)\n",
      "Special tokens have been added in the vocabulary, make sure the associated word embedding are fine-tuned or trained.\n"
     ]
    },
    {
     "data": {
      "application/vnd.jupyter.widget-view+json": {
       "model_id": "4037b6d8b75746d5b6898961c1a588a2",
       "version_major": 2,
       "version_minor": 0
      },
      "text/plain": [
       "HBox(children=(FloatProgress(value=0.0, max=1844.0), HTML(value='')))"
      ]
     },
     "metadata": {},
     "output_type": "display_data"
    },
    {
     "name": "stdout",
     "output_type": "stream",
     "text": [
      "\n"
     ]
    },
    {
     "data": {
      "application/vnd.jupyter.widget-view+json": {
       "model_id": "0576ef2409d2465192e2f14b310f09bf",
       "version_major": 2,
       "version_minor": 0
      },
      "text/plain": [
       "HBox(children=(FloatProgress(value=0.0, max=231.0), HTML(value='')))"
      ]
     },
     "metadata": {},
     "output_type": "display_data"
    },
    {
     "name": "stdout",
     "output_type": "stream",
     "text": [
      "\n"
     ]
    },
    {
     "ename": "TypeError",
     "evalue": "can't convert cuda:0 device type tensor to numpy. Use Tensor.cpu() to copy the tensor to host memory first.",
     "output_type": "error",
     "traceback": [
      "\u001b[0;31m---------------------------------------------------------------------------\u001b[0m",
      "\u001b[0;31mTypeError\u001b[0m                                 Traceback (most recent call last)",
      "\u001b[0;32m<ipython-input-15-b0a7c275d5df>\u001b[0m in \u001b[0;36m<module>\u001b[0;34m\u001b[0m\n\u001b[1;32m     39\u001b[0m   \u001b[0;32mreturn\u001b[0m \u001b[0mbatch\u001b[0m\u001b[0;34m\u001b[0m\u001b[0;34m\u001b[0m\u001b[0m\n\u001b[1;32m     40\u001b[0m \u001b[0;34m\u001b[0m\u001b[0m\n\u001b[0;32m---> 41\u001b[0;31m \u001b[0mresult\u001b[0m \u001b[0;34m=\u001b[0m \u001b[0mtest_dataset\u001b[0m\u001b[0;34m.\u001b[0m\u001b[0mmap\u001b[0m\u001b[0;34m(\u001b[0m\u001b[0mevaluate\u001b[0m\u001b[0;34m,\u001b[0m \u001b[0mbatched\u001b[0m\u001b[0;34m=\u001b[0m\u001b[0;32mTrue\u001b[0m\u001b[0;34m,\u001b[0m \u001b[0mbatch_size\u001b[0m\u001b[0;34m=\u001b[0m\u001b[0;36m8\u001b[0m\u001b[0;34m)\u001b[0m\u001b[0;34m\u001b[0m\u001b[0;34m\u001b[0m\u001b[0m\n\u001b[0m\u001b[1;32m     42\u001b[0m \u001b[0;34m\u001b[0m\u001b[0m\n\u001b[1;32m     43\u001b[0m \u001b[0mprint\u001b[0m\u001b[0;34m(\u001b[0m\u001b[0;34m\"WER: {:2f}\"\u001b[0m\u001b[0;34m.\u001b[0m\u001b[0mformat\u001b[0m\u001b[0;34m(\u001b[0m\u001b[0;36m100\u001b[0m \u001b[0;34m*\u001b[0m \u001b[0mwer\u001b[0m\u001b[0;34m.\u001b[0m\u001b[0mcompute\u001b[0m\u001b[0;34m(\u001b[0m\u001b[0mpredictions\u001b[0m\u001b[0;34m=\u001b[0m\u001b[0mresult\u001b[0m\u001b[0;34m[\u001b[0m\u001b[0;34m\"pred_strings\"\u001b[0m\u001b[0;34m]\u001b[0m\u001b[0;34m,\u001b[0m \u001b[0mreferences\u001b[0m\u001b[0;34m=\u001b[0m\u001b[0mresult\u001b[0m\u001b[0;34m[\u001b[0m\u001b[0;34m\"sentence\"\u001b[0m\u001b[0;34m]\u001b[0m\u001b[0;34m)\u001b[0m\u001b[0;34m)\u001b[0m\u001b[0;34m)\u001b[0m\u001b[0;34m\u001b[0m\u001b[0;34m\u001b[0m\u001b[0m\n",
      "\u001b[0;32m~/anaconda3/envs/fastai/lib/python3.8/site-packages/datasets/arrow_dataset.py\u001b[0m in \u001b[0;36mmap\u001b[0;34m(self, function, with_indices, input_columns, batched, batch_size, drop_last_batch, remove_columns, keep_in_memory, load_from_cache_file, cache_file_name, writer_batch_size, features, disable_nullable, fn_kwargs, num_proc, suffix_template, new_fingerprint)\u001b[0m\n\u001b[1;32m   1472\u001b[0m \u001b[0;34m\u001b[0m\u001b[0m\n\u001b[1;32m   1473\u001b[0m         \u001b[0;32mif\u001b[0m \u001b[0mnum_proc\u001b[0m \u001b[0;32mis\u001b[0m \u001b[0;32mNone\u001b[0m \u001b[0;32mor\u001b[0m \u001b[0mnum_proc\u001b[0m \u001b[0;34m==\u001b[0m \u001b[0;36m1\u001b[0m\u001b[0;34m:\u001b[0m\u001b[0;34m\u001b[0m\u001b[0;34m\u001b[0m\u001b[0m\n\u001b[0;32m-> 1474\u001b[0;31m             return self._map_single(\n\u001b[0m\u001b[1;32m   1475\u001b[0m                 \u001b[0mfunction\u001b[0m\u001b[0;34m=\u001b[0m\u001b[0mfunction\u001b[0m\u001b[0;34m,\u001b[0m\u001b[0;34m\u001b[0m\u001b[0;34m\u001b[0m\u001b[0m\n\u001b[1;32m   1476\u001b[0m                 \u001b[0mwith_indices\u001b[0m\u001b[0;34m=\u001b[0m\u001b[0mwith_indices\u001b[0m\u001b[0;34m,\u001b[0m\u001b[0;34m\u001b[0m\u001b[0;34m\u001b[0m\u001b[0m\n",
      "\u001b[0;32m~/anaconda3/envs/fastai/lib/python3.8/site-packages/datasets/arrow_dataset.py\u001b[0m in \u001b[0;36mwrapper\u001b[0;34m(*args, **kwargs)\u001b[0m\n\u001b[1;32m    172\u001b[0m         }\n\u001b[1;32m    173\u001b[0m         \u001b[0;31m# apply actual function\u001b[0m\u001b[0;34m\u001b[0m\u001b[0;34m\u001b[0m\u001b[0;34m\u001b[0m\u001b[0m\n\u001b[0;32m--> 174\u001b[0;31m         \u001b[0mout\u001b[0m\u001b[0;34m:\u001b[0m \u001b[0mUnion\u001b[0m\u001b[0;34m[\u001b[0m\u001b[0;34m\"Dataset\"\u001b[0m\u001b[0;34m,\u001b[0m \u001b[0;34m\"DatasetDict\"\u001b[0m\u001b[0;34m]\u001b[0m \u001b[0;34m=\u001b[0m \u001b[0mfunc\u001b[0m\u001b[0;34m(\u001b[0m\u001b[0mself\u001b[0m\u001b[0;34m,\u001b[0m \u001b[0;34m*\u001b[0m\u001b[0margs\u001b[0m\u001b[0;34m,\u001b[0m \u001b[0;34m**\u001b[0m\u001b[0mkwargs\u001b[0m\u001b[0;34m)\u001b[0m\u001b[0;34m\u001b[0m\u001b[0;34m\u001b[0m\u001b[0m\n\u001b[0m\u001b[1;32m    175\u001b[0m         \u001b[0mdatasets\u001b[0m\u001b[0;34m:\u001b[0m \u001b[0mList\u001b[0m\u001b[0;34m[\u001b[0m\u001b[0;34m\"Dataset\"\u001b[0m\u001b[0;34m]\u001b[0m \u001b[0;34m=\u001b[0m \u001b[0mlist\u001b[0m\u001b[0;34m(\u001b[0m\u001b[0mout\u001b[0m\u001b[0;34m.\u001b[0m\u001b[0mvalues\u001b[0m\u001b[0;34m(\u001b[0m\u001b[0;34m)\u001b[0m\u001b[0;34m)\u001b[0m \u001b[0;32mif\u001b[0m \u001b[0misinstance\u001b[0m\u001b[0;34m(\u001b[0m\u001b[0mout\u001b[0m\u001b[0;34m,\u001b[0m \u001b[0mdict\u001b[0m\u001b[0;34m)\u001b[0m \u001b[0;32melse\u001b[0m \u001b[0;34m[\u001b[0m\u001b[0mout\u001b[0m\u001b[0;34m]\u001b[0m\u001b[0;34m\u001b[0m\u001b[0;34m\u001b[0m\u001b[0m\n\u001b[1;32m    176\u001b[0m         \u001b[0;31m# re-apply format to the output\u001b[0m\u001b[0;34m\u001b[0m\u001b[0;34m\u001b[0m\u001b[0;34m\u001b[0m\u001b[0m\n",
      "\u001b[0;32m~/anaconda3/envs/fastai/lib/python3.8/site-packages/datasets/fingerprint.py\u001b[0m in \u001b[0;36mwrapper\u001b[0;34m(*args, **kwargs)\u001b[0m\n\u001b[1;32m    338\u001b[0m             \u001b[0;31m# Call actual function\u001b[0m\u001b[0;34m\u001b[0m\u001b[0;34m\u001b[0m\u001b[0;34m\u001b[0m\u001b[0m\n\u001b[1;32m    339\u001b[0m \u001b[0;34m\u001b[0m\u001b[0m\n\u001b[0;32m--> 340\u001b[0;31m             \u001b[0mout\u001b[0m \u001b[0;34m=\u001b[0m \u001b[0mfunc\u001b[0m\u001b[0;34m(\u001b[0m\u001b[0mself\u001b[0m\u001b[0;34m,\u001b[0m \u001b[0;34m*\u001b[0m\u001b[0margs\u001b[0m\u001b[0;34m,\u001b[0m \u001b[0;34m**\u001b[0m\u001b[0mkwargs\u001b[0m\u001b[0;34m)\u001b[0m\u001b[0;34m\u001b[0m\u001b[0;34m\u001b[0m\u001b[0m\n\u001b[0m\u001b[1;32m    341\u001b[0m \u001b[0;34m\u001b[0m\u001b[0m\n\u001b[1;32m    342\u001b[0m             \u001b[0;31m# Update fingerprint of in-place transforms + update in-place history of transforms\u001b[0m\u001b[0;34m\u001b[0m\u001b[0;34m\u001b[0m\u001b[0;34m\u001b[0m\u001b[0m\n",
      "\u001b[0;32m~/anaconda3/envs/fastai/lib/python3.8/site-packages/datasets/arrow_dataset.py\u001b[0m in \u001b[0;36m_map_single\u001b[0;34m(self, function, with_indices, input_columns, batched, batch_size, drop_last_batch, remove_columns, keep_in_memory, load_from_cache_file, cache_file_name, writer_batch_size, features, disable_nullable, fn_kwargs, new_fingerprint, rank, offset)\u001b[0m\n\u001b[1;32m   1796\u001b[0m                         \u001b[0mindices\u001b[0m \u001b[0;34m=\u001b[0m \u001b[0mlist\u001b[0m\u001b[0;34m(\u001b[0m\u001b[0mrange\u001b[0m\u001b[0;34m(\u001b[0m\u001b[0;34m*\u001b[0m\u001b[0;34m(\u001b[0m\u001b[0mslice\u001b[0m\u001b[0;34m(\u001b[0m\u001b[0mi\u001b[0m\u001b[0;34m,\u001b[0m \u001b[0mi\u001b[0m \u001b[0;34m+\u001b[0m \u001b[0mbatch_size\u001b[0m\u001b[0;34m)\u001b[0m\u001b[0;34m.\u001b[0m\u001b[0mindices\u001b[0m\u001b[0;34m(\u001b[0m\u001b[0mself\u001b[0m\u001b[0;34m.\u001b[0m\u001b[0mnum_rows\u001b[0m\u001b[0;34m)\u001b[0m\u001b[0;34m)\u001b[0m\u001b[0;34m)\u001b[0m\u001b[0;34m)\u001b[0m  \u001b[0;31m# Something simpler?\u001b[0m\u001b[0;34m\u001b[0m\u001b[0;34m\u001b[0m\u001b[0m\n\u001b[1;32m   1797\u001b[0m                         \u001b[0;32mtry\u001b[0m\u001b[0;34m:\u001b[0m\u001b[0;34m\u001b[0m\u001b[0;34m\u001b[0m\u001b[0m\n\u001b[0;32m-> 1798\u001b[0;31m                             batch = apply_function_on_filtered_inputs(\n\u001b[0m\u001b[1;32m   1799\u001b[0m                                 \u001b[0mbatch\u001b[0m\u001b[0;34m,\u001b[0m \u001b[0mindices\u001b[0m\u001b[0;34m,\u001b[0m \u001b[0mcheck_same_num_examples\u001b[0m\u001b[0;34m=\u001b[0m\u001b[0mlen\u001b[0m\u001b[0;34m(\u001b[0m\u001b[0mself\u001b[0m\u001b[0;34m.\u001b[0m\u001b[0mlist_indexes\u001b[0m\u001b[0;34m(\u001b[0m\u001b[0;34m)\u001b[0m\u001b[0;34m)\u001b[0m \u001b[0;34m>\u001b[0m \u001b[0;36m0\u001b[0m\u001b[0;34m,\u001b[0m \u001b[0moffset\u001b[0m\u001b[0;34m=\u001b[0m\u001b[0moffset\u001b[0m\u001b[0;34m\u001b[0m\u001b[0;34m\u001b[0m\u001b[0m\n\u001b[1;32m   1800\u001b[0m                             )\n",
      "\u001b[0;32m~/anaconda3/envs/fastai/lib/python3.8/site-packages/datasets/arrow_dataset.py\u001b[0m in \u001b[0;36mapply_function_on_filtered_inputs\u001b[0;34m(inputs, indices, check_same_num_examples, offset)\u001b[0m\n\u001b[1;32m   1704\u001b[0m                 \u001b[0meffective_indices\u001b[0m \u001b[0;34m=\u001b[0m \u001b[0;34m[\u001b[0m\u001b[0mi\u001b[0m \u001b[0;34m+\u001b[0m \u001b[0moffset\u001b[0m \u001b[0;32mfor\u001b[0m \u001b[0mi\u001b[0m \u001b[0;32min\u001b[0m \u001b[0mindices\u001b[0m\u001b[0;34m]\u001b[0m \u001b[0;32mif\u001b[0m \u001b[0misinstance\u001b[0m\u001b[0;34m(\u001b[0m\u001b[0mindices\u001b[0m\u001b[0;34m,\u001b[0m \u001b[0mlist\u001b[0m\u001b[0;34m)\u001b[0m \u001b[0;32melse\u001b[0m \u001b[0mindices\u001b[0m \u001b[0;34m+\u001b[0m \u001b[0moffset\u001b[0m\u001b[0;34m\u001b[0m\u001b[0;34m\u001b[0m\u001b[0m\n\u001b[1;32m   1705\u001b[0m             processed_inputs = (\n\u001b[0;32m-> 1706\u001b[0;31m                 \u001b[0mfunction\u001b[0m\u001b[0;34m(\u001b[0m\u001b[0;34m*\u001b[0m\u001b[0mfn_args\u001b[0m\u001b[0;34m,\u001b[0m \u001b[0meffective_indices\u001b[0m\u001b[0;34m,\u001b[0m \u001b[0;34m**\u001b[0m\u001b[0mfn_kwargs\u001b[0m\u001b[0;34m)\u001b[0m \u001b[0;32mif\u001b[0m \u001b[0mwith_indices\u001b[0m \u001b[0;32melse\u001b[0m \u001b[0mfunction\u001b[0m\u001b[0;34m(\u001b[0m\u001b[0;34m*\u001b[0m\u001b[0mfn_args\u001b[0m\u001b[0;34m,\u001b[0m \u001b[0;34m**\u001b[0m\u001b[0mfn_kwargs\u001b[0m\u001b[0;34m)\u001b[0m\u001b[0;34m\u001b[0m\u001b[0;34m\u001b[0m\u001b[0m\n\u001b[0m\u001b[1;32m   1707\u001b[0m             )\n\u001b[1;32m   1708\u001b[0m             \u001b[0;32mif\u001b[0m \u001b[0mupdate_data\u001b[0m \u001b[0;32mis\u001b[0m \u001b[0;32mNone\u001b[0m\u001b[0;34m:\u001b[0m\u001b[0;34m\u001b[0m\u001b[0;34m\u001b[0m\u001b[0m\n",
      "\u001b[0;32m<ipython-input-15-b0a7c275d5df>\u001b[0m in \u001b[0;36mevaluate\u001b[0;34m(batch)\u001b[0m\n\u001b[1;32m     36\u001b[0m   \u001b[0mpred_ids\u001b[0m \u001b[0;34m=\u001b[0m \u001b[0mtorch\u001b[0m\u001b[0;34m.\u001b[0m\u001b[0margmax\u001b[0m\u001b[0;34m(\u001b[0m\u001b[0mlogits\u001b[0m\u001b[0;34m,\u001b[0m \u001b[0mdim\u001b[0m\u001b[0;34m=\u001b[0m\u001b[0;34m-\u001b[0m\u001b[0;36m1\u001b[0m\u001b[0;34m)\u001b[0m\u001b[0;34m\u001b[0m\u001b[0;34m\u001b[0m\u001b[0m\n\u001b[1;32m     37\u001b[0m   \u001b[0mbatch\u001b[0m\u001b[0;34m[\u001b[0m\u001b[0;34m\"pred_strings\"\u001b[0m\u001b[0;34m]\u001b[0m \u001b[0;34m=\u001b[0m \u001b[0mprocessor\u001b[0m\u001b[0;34m.\u001b[0m\u001b[0mbatch_decode\u001b[0m\u001b[0;34m(\u001b[0m\u001b[0mpred_ids\u001b[0m\u001b[0;34m)\u001b[0m\u001b[0;34m\u001b[0m\u001b[0;34m\u001b[0m\u001b[0m\n\u001b[0;32m---> 38\u001b[0;31m   \u001b[0mbatch\u001b[0m\u001b[0;34m[\u001b[0m\u001b[0;34m\"lm_pred_strings\"\u001b[0m\u001b[0;34m]\u001b[0m \u001b[0;34m=\u001b[0m \u001b[0;34m[\u001b[0m\u001b[0mdecoder\u001b[0m\u001b[0;34m.\u001b[0m\u001b[0mdecode\u001b[0m\u001b[0;34m(\u001b[0m\u001b[0mlogit\u001b[0m\u001b[0;34m.\u001b[0m\u001b[0mnumpy\u001b[0m\u001b[0;34m(\u001b[0m\u001b[0;34m)\u001b[0m\u001b[0;34m)\u001b[0m \u001b[0;32mfor\u001b[0m \u001b[0mlogit\u001b[0m \u001b[0;32min\u001b[0m \u001b[0mlogits\u001b[0m\u001b[0;34m]\u001b[0m\u001b[0;34m\u001b[0m\u001b[0;34m\u001b[0m\u001b[0m\n\u001b[0m\u001b[1;32m     39\u001b[0m   \u001b[0;32mreturn\u001b[0m \u001b[0mbatch\u001b[0m\u001b[0;34m\u001b[0m\u001b[0;34m\u001b[0m\u001b[0m\n\u001b[1;32m     40\u001b[0m \u001b[0;34m\u001b[0m\u001b[0m\n",
      "\u001b[0;32m<ipython-input-15-b0a7c275d5df>\u001b[0m in \u001b[0;36m<listcomp>\u001b[0;34m(.0)\u001b[0m\n\u001b[1;32m     36\u001b[0m   \u001b[0mpred_ids\u001b[0m \u001b[0;34m=\u001b[0m \u001b[0mtorch\u001b[0m\u001b[0;34m.\u001b[0m\u001b[0margmax\u001b[0m\u001b[0;34m(\u001b[0m\u001b[0mlogits\u001b[0m\u001b[0;34m,\u001b[0m \u001b[0mdim\u001b[0m\u001b[0;34m=\u001b[0m\u001b[0;34m-\u001b[0m\u001b[0;36m1\u001b[0m\u001b[0;34m)\u001b[0m\u001b[0;34m\u001b[0m\u001b[0;34m\u001b[0m\u001b[0m\n\u001b[1;32m     37\u001b[0m   \u001b[0mbatch\u001b[0m\u001b[0;34m[\u001b[0m\u001b[0;34m\"pred_strings\"\u001b[0m\u001b[0;34m]\u001b[0m \u001b[0;34m=\u001b[0m \u001b[0mprocessor\u001b[0m\u001b[0;34m.\u001b[0m\u001b[0mbatch_decode\u001b[0m\u001b[0;34m(\u001b[0m\u001b[0mpred_ids\u001b[0m\u001b[0;34m)\u001b[0m\u001b[0;34m\u001b[0m\u001b[0;34m\u001b[0m\u001b[0m\n\u001b[0;32m---> 38\u001b[0;31m   \u001b[0mbatch\u001b[0m\u001b[0;34m[\u001b[0m\u001b[0;34m\"lm_pred_strings\"\u001b[0m\u001b[0;34m]\u001b[0m \u001b[0;34m=\u001b[0m \u001b[0;34m[\u001b[0m\u001b[0mdecoder\u001b[0m\u001b[0;34m.\u001b[0m\u001b[0mdecode\u001b[0m\u001b[0;34m(\u001b[0m\u001b[0mlogit\u001b[0m\u001b[0;34m.\u001b[0m\u001b[0mnumpy\u001b[0m\u001b[0;34m(\u001b[0m\u001b[0;34m)\u001b[0m\u001b[0;34m)\u001b[0m \u001b[0;32mfor\u001b[0m \u001b[0mlogit\u001b[0m \u001b[0;32min\u001b[0m \u001b[0mlogits\u001b[0m\u001b[0;34m]\u001b[0m\u001b[0;34m\u001b[0m\u001b[0;34m\u001b[0m\u001b[0m\n\u001b[0m\u001b[1;32m     39\u001b[0m   \u001b[0;32mreturn\u001b[0m \u001b[0mbatch\u001b[0m\u001b[0;34m\u001b[0m\u001b[0;34m\u001b[0m\u001b[0m\n\u001b[1;32m     40\u001b[0m \u001b[0;34m\u001b[0m\u001b[0m\n",
      "\u001b[0;31mTypeError\u001b[0m: can't convert cuda:0 device type tensor to numpy. Use Tensor.cpu() to copy the tensor to host memory first."
     ]
    }
   ],
   "source": [
    "import torch\n",
    "import torchaudio\n",
    "from datasets import load_dataset, load_metric\n",
    "from transformers import Wav2Vec2ForCTC, Wav2Vec2Processor\n",
    "import re\n",
    "\n",
    "test_dataset = load_dataset(\"common_voice\", \"id\", split=\"test\")\n",
    "wer = load_metric(\"wer\")\n",
    "\n",
    "processor = Wav2Vec2Processor.from_pretrained(\"indonesian-nlp/wav2vec2-large-xlsr-indonesian\")\n",
    "model = Wav2Vec2ForCTC.from_pretrained(\"indonesian-nlp/wav2vec2-large-xlsr-indonesian\") \n",
    "model.to(\"cuda\")\n",
    "\n",
    "chars_to_ignore_regex = '[\\,\\?\\.\\!\\-\\;\\:\\\"\\“\\%\\‘\\'\\”\\�]'\n",
    "\n",
    "\n",
    "# Preprocessing the datasets.\n",
    "# We need to read the aduio files as arrays\n",
    "def speech_file_to_array_fn(batch):\n",
    "  batch[\"sentence\"] = re.sub(chars_to_ignore_regex, '', batch[\"sentence\"]).lower()\n",
    "  speech_array, sampling_rate = torchaudio.load(batch[\"path\"])\n",
    "  resampler = torchaudio.transforms.Resample(sampling_rate, 16_000)\n",
    "  batch[\"speech\"] = resampler(speech_array).squeeze().numpy()\n",
    "  return batch\n",
    "\n",
    "test_dataset = test_dataset.map(speech_file_to_array_fn)"
   ]
  },
  {
   "cell_type": "code",
   "execution_count": 19,
   "metadata": {},
   "outputs": [
    {
     "data": {
      "application/vnd.jupyter.widget-view+json": {
       "model_id": "149548b531ac463d9a020bd6cb3e9892",
       "version_major": 2,
       "version_minor": 0
      },
      "text/plain": [
       "HBox(children=(FloatProgress(value=0.0, max=231.0), HTML(value='')))"
      ]
     },
     "metadata": {},
     "output_type": "display_data"
    },
    {
     "name": "stderr",
     "output_type": "stream",
     "text": [
      "100%|██████████| 8/8 [00:11<00:00,  1.44s/it]\n",
      "100%|██████████| 8/8 [00:08<00:00,  1.09s/it]\n",
      "100%|██████████| 8/8 [00:05<00:00,  1.59it/s]\n",
      "100%|██████████| 8/8 [00:12<00:00,  1.53s/it]\n",
      "100%|██████████| 8/8 [00:09<00:00,  1.16s/it]\n",
      "100%|██████████| 8/8 [00:07<00:00,  1.01it/s]\n",
      "100%|██████████| 8/8 [00:06<00:00,  1.15it/s]\n",
      "100%|██████████| 8/8 [00:07<00:00,  1.10it/s]\n",
      "100%|██████████| 8/8 [00:08<00:00,  1.03s/it]\n",
      "100%|██████████| 8/8 [00:09<00:00,  1.16s/it]\n",
      "100%|██████████| 8/8 [00:07<00:00,  1.07it/s]\n",
      "100%|██████████| 8/8 [00:06<00:00,  1.17it/s]\n",
      "100%|██████████| 8/8 [00:07<00:00,  1.02it/s]\n",
      "100%|██████████| 8/8 [00:09<00:00,  1.24s/it]\n",
      "100%|██████████| 8/8 [00:07<00:00,  1.06it/s]\n",
      "100%|██████████| 8/8 [00:05<00:00,  1.43it/s]\n",
      "100%|██████████| 8/8 [00:07<00:00,  1.04it/s]\n",
      "100%|██████████| 8/8 [00:07<00:00,  1.07it/s]\n",
      "100%|██████████| 8/8 [00:09<00:00,  1.20s/it]\n",
      "100%|██████████| 8/8 [00:06<00:00,  1.16it/s]\n",
      "100%|██████████| 8/8 [00:11<00:00,  1.46s/it]\n",
      "100%|██████████| 8/8 [00:11<00:00,  1.41s/it]\n",
      "100%|██████████| 8/8 [00:09<00:00,  1.14s/it]\n",
      "100%|██████████| 8/8 [00:07<00:00,  1.10it/s]\n",
      "100%|██████████| 8/8 [00:06<00:00,  1.21it/s]\n",
      "100%|██████████| 8/8 [00:10<00:00,  1.34s/it]\n",
      "100%|██████████| 8/8 [00:07<00:00,  1.03it/s]\n",
      "100%|██████████| 8/8 [00:08<00:00,  1.05s/it]\n",
      "100%|██████████| 8/8 [00:07<00:00,  1.12it/s]\n",
      "100%|██████████| 8/8 [00:07<00:00,  1.04it/s]\n",
      "100%|██████████| 8/8 [00:08<00:00,  1.06s/it]\n",
      "100%|██████████| 8/8 [00:08<00:00,  1.09s/it]\n",
      "100%|██████████| 8/8 [00:09<00:00,  1.20s/it]\n",
      "100%|██████████| 8/8 [00:08<00:00,  1.02s/it]\n",
      "100%|██████████| 8/8 [00:06<00:00,  1.22it/s]\n",
      "100%|██████████| 8/8 [00:11<00:00,  1.40s/it]\n",
      "100%|██████████| 8/8 [00:08<00:00,  1.03s/it]\n",
      "100%|██████████| 8/8 [00:05<00:00,  1.39it/s]\n",
      "100%|██████████| 8/8 [00:09<00:00,  1.16s/it]\n",
      "100%|██████████| 8/8 [00:07<00:00,  1.08it/s]\n",
      "100%|██████████| 8/8 [00:09<00:00,  1.22s/it]\n",
      "100%|██████████| 8/8 [00:08<00:00,  1.09s/it]\n",
      "100%|██████████| 8/8 [00:07<00:00,  1.04it/s]\n",
      "100%|██████████| 8/8 [00:06<00:00,  1.17it/s]\n",
      "100%|██████████| 8/8 [00:07<00:00,  1.10it/s]\n",
      "100%|██████████| 8/8 [00:05<00:00,  1.55it/s]\n",
      "100%|██████████| 8/8 [00:05<00:00,  1.39it/s]\n",
      "100%|██████████| 8/8 [00:08<00:00,  1.04s/it]\n",
      "100%|██████████| 8/8 [00:10<00:00,  1.26s/it]\n",
      "100%|██████████| 8/8 [00:09<00:00,  1.17s/it]\n",
      "100%|██████████| 8/8 [00:09<00:00,  1.22s/it]\n",
      "100%|██████████| 8/8 [00:09<00:00,  1.14s/it]\n",
      "100%|██████████| 8/8 [00:07<00:00,  1.04it/s]\n",
      "100%|██████████| 8/8 [00:06<00:00,  1.21it/s]\n",
      "100%|██████████| 8/8 [00:07<00:00,  1.05it/s]\n",
      "100%|██████████| 8/8 [00:11<00:00,  1.49s/it]\n",
      "100%|██████████| 8/8 [00:07<00:00,  1.14it/s]\n",
      "100%|██████████| 8/8 [00:08<00:00,  1.01s/it]\n",
      "100%|██████████| 8/8 [00:08<00:00,  1.04s/it]\n",
      "100%|██████████| 8/8 [00:05<00:00,  1.38it/s]\n",
      "100%|██████████| 8/8 [00:05<00:00,  1.43it/s]\n",
      "100%|██████████| 8/8 [00:07<00:00,  1.09it/s]\n",
      "100%|██████████| 8/8 [00:05<00:00,  1.34it/s]\n",
      "100%|██████████| 8/8 [00:06<00:00,  1.14it/s]\n",
      "100%|██████████| 8/8 [00:05<00:00,  1.39it/s]\n",
      "100%|██████████| 8/8 [00:07<00:00,  1.03it/s]\n",
      "100%|██████████| 8/8 [00:08<00:00,  1.01s/it]\n",
      "100%|██████████| 8/8 [00:09<00:00,  1.14s/it]\n",
      "100%|██████████| 8/8 [00:05<00:00,  1.36it/s]\n",
      "100%|██████████| 8/8 [00:06<00:00,  1.28it/s]\n",
      "100%|██████████| 8/8 [00:07<00:00,  1.05it/s]\n",
      "100%|██████████| 8/8 [00:06<00:00,  1.28it/s]\n",
      "100%|██████████| 8/8 [00:06<00:00,  1.17it/s]\n",
      "100%|██████████| 8/8 [00:06<00:00,  1.18it/s]\n",
      "100%|██████████| 8/8 [00:05<00:00,  1.36it/s]\n",
      "100%|██████████| 8/8 [00:06<00:00,  1.20it/s]\n",
      "100%|██████████| 8/8 [00:07<00:00,  1.14it/s]\n",
      "100%|██████████| 8/8 [00:07<00:00,  1.06it/s]\n",
      "100%|██████████| 8/8 [00:07<00:00,  1.10it/s]\n",
      "100%|██████████| 8/8 [00:07<00:00,  1.02it/s]\n",
      "100%|██████████| 8/8 [00:08<00:00,  1.04s/it]\n",
      "100%|██████████| 8/8 [00:07<00:00,  1.10it/s]\n",
      "100%|██████████| 8/8 [00:04<00:00,  1.67it/s]\n",
      "100%|██████████| 8/8 [00:06<00:00,  1.33it/s]\n",
      "100%|██████████| 8/8 [00:07<00:00,  1.13it/s]\n",
      "100%|██████████| 8/8 [00:06<00:00,  1.23it/s]\n",
      "100%|██████████| 8/8 [00:07<00:00,  1.07it/s]\n",
      "100%|██████████| 8/8 [00:08<00:00,  1.05s/it]\n",
      "100%|██████████| 8/8 [00:10<00:00,  1.34s/it]\n",
      "100%|██████████| 8/8 [00:08<00:00,  1.00s/it]\n",
      "100%|██████████| 8/8 [00:08<00:00,  1.03s/it]\n",
      "100%|██████████| 8/8 [00:09<00:00,  1.21s/it]\n",
      "100%|██████████| 8/8 [00:08<00:00,  1.03s/it]\n",
      "100%|██████████| 8/8 [00:06<00:00,  1.17it/s]\n",
      "100%|██████████| 8/8 [00:08<00:00,  1.11s/it]\n",
      "100%|██████████| 8/8 [00:08<00:00,  1.03s/it]\n",
      "100%|██████████| 8/8 [00:09<00:00,  1.24s/it]\n",
      "100%|██████████| 8/8 [00:07<00:00,  1.02it/s]\n",
      "100%|██████████| 8/8 [00:11<00:00,  1.40s/it]\n",
      "100%|██████████| 8/8 [00:09<00:00,  1.25s/it]\n",
      "100%|██████████| 8/8 [00:05<00:00,  1.53it/s]\n",
      "100%|██████████| 8/8 [00:06<00:00,  1.17it/s]\n",
      "100%|██████████| 8/8 [00:06<00:00,  1.26it/s]\n",
      "100%|██████████| 8/8 [00:07<00:00,  1.02it/s]\n",
      "100%|██████████| 8/8 [00:07<00:00,  1.00it/s]\n",
      "100%|██████████| 8/8 [00:08<00:00,  1.02s/it]\n",
      "100%|██████████| 8/8 [00:07<00:00,  1.11it/s]\n",
      "100%|██████████| 8/8 [00:10<00:00,  1.30s/it]\n",
      "100%|██████████| 8/8 [00:09<00:00,  1.23s/it]\n",
      "100%|██████████| 8/8 [00:06<00:00,  1.23it/s]\n",
      "100%|██████████| 8/8 [00:07<00:00,  1.10it/s]\n",
      "100%|██████████| 8/8 [00:06<00:00,  1.25it/s]\n",
      "100%|██████████| 8/8 [00:07<00:00,  1.10it/s]\n",
      "100%|██████████| 8/8 [00:06<00:00,  1.20it/s]\n",
      "100%|██████████| 8/8 [00:08<00:00,  1.04s/it]\n",
      "100%|██████████| 8/8 [00:07<00:00,  1.12it/s]\n",
      "100%|██████████| 8/8 [00:07<00:00,  1.06it/s]\n",
      "100%|██████████| 8/8 [00:06<00:00,  1.28it/s]\n",
      "100%|██████████| 8/8 [00:06<00:00,  1.15it/s]\n",
      "100%|██████████| 8/8 [00:06<00:00,  1.28it/s]\n",
      "100%|██████████| 8/8 [00:07<00:00,  1.09it/s]\n",
      "100%|██████████| 8/8 [00:07<00:00,  1.03it/s]\n",
      "100%|██████████| 8/8 [00:06<00:00,  1.23it/s]\n",
      "100%|██████████| 8/8 [00:07<00:00,  1.04it/s]\n",
      "100%|██████████| 8/8 [00:05<00:00,  1.39it/s]\n",
      "100%|██████████| 8/8 [00:06<00:00,  1.29it/s]\n",
      "100%|██████████| 8/8 [00:08<00:00,  1.01s/it]\n",
      "100%|██████████| 8/8 [00:07<00:00,  1.03it/s]\n",
      "100%|██████████| 8/8 [00:09<00:00,  1.21s/it]\n",
      "100%|██████████| 8/8 [00:08<00:00,  1.12s/it]\n",
      "100%|██████████| 8/8 [00:10<00:00,  1.27s/it]\n",
      "100%|██████████| 8/8 [00:08<00:00,  1.07s/it]\n",
      "100%|██████████| 8/8 [00:07<00:00,  1.03it/s]\n",
      "100%|██████████| 8/8 [00:06<00:00,  1.29it/s]\n",
      "100%|██████████| 8/8 [00:11<00:00,  1.45s/it]\n",
      "100%|██████████| 8/8 [00:08<00:00,  1.11s/it]\n",
      "100%|██████████| 8/8 [00:08<00:00,  1.02s/it]\n",
      "100%|██████████| 8/8 [00:09<00:00,  1.20s/it]\n",
      "100%|██████████| 8/8 [00:06<00:00,  1.27it/s]\n",
      "100%|██████████| 8/8 [00:06<00:00,  1.22it/s]\n",
      "100%|██████████| 8/8 [00:07<00:00,  1.03it/s]\n",
      "100%|██████████| 8/8 [00:06<00:00,  1.16it/s]\n",
      "100%|██████████| 8/8 [00:07<00:00,  1.14it/s]\n",
      "100%|██████████| 8/8 [00:07<00:00,  1.06it/s]\n",
      "100%|██████████| 8/8 [00:05<00:00,  1.46it/s]\n",
      "100%|██████████| 8/8 [00:06<00:00,  1.28it/s]\n",
      "100%|██████████| 8/8 [00:08<00:00,  1.07s/it]\n",
      "100%|██████████| 8/8 [00:05<00:00,  1.34it/s]\n",
      "100%|██████████| 8/8 [00:07<00:00,  1.13it/s]\n",
      "100%|██████████| 8/8 [00:05<00:00,  1.46it/s]\n",
      "100%|██████████| 8/8 [00:08<00:00,  1.10s/it]\n",
      "100%|██████████| 8/8 [00:09<00:00,  1.16s/it]\n",
      "100%|██████████| 8/8 [00:11<00:00,  1.43s/it]\n",
      "100%|██████████| 8/8 [00:09<00:00,  1.17s/it]\n",
      "100%|██████████| 8/8 [00:06<00:00,  1.17it/s]\n",
      "100%|██████████| 8/8 [00:08<00:00,  1.00s/it]\n",
      "100%|██████████| 8/8 [00:08<00:00,  1.03s/it]\n",
      "100%|██████████| 8/8 [00:06<00:00,  1.33it/s]\n",
      "100%|██████████| 8/8 [00:07<00:00,  1.12it/s]\n",
      "100%|██████████| 8/8 [00:04<00:00,  1.77it/s]\n",
      "100%|██████████| 8/8 [00:07<00:00,  1.06it/s]\n",
      "100%|██████████| 8/8 [00:06<00:00,  1.31it/s]\n",
      "100%|██████████| 8/8 [00:10<00:00,  1.33s/it]\n",
      "100%|██████████| 8/8 [00:09<00:00,  1.15s/it]\n",
      "100%|██████████| 8/8 [00:06<00:00,  1.16it/s]\n",
      "100%|██████████| 8/8 [00:06<00:00,  1.20it/s]\n",
      "100%|██████████| 8/8 [00:06<00:00,  1.26it/s]\n",
      "100%|██████████| 8/8 [00:09<00:00,  1.20s/it]\n",
      "100%|██████████| 8/8 [00:06<00:00,  1.16it/s]\n",
      "100%|██████████| 8/8 [00:06<00:00,  1.26it/s]\n",
      "100%|██████████| 8/8 [00:08<00:00,  1.10s/it]\n",
      "100%|██████████| 8/8 [00:05<00:00,  1.58it/s]\n",
      "100%|██████████| 8/8 [00:07<00:00,  1.08it/s]\n",
      "100%|██████████| 8/8 [00:11<00:00,  1.43s/it]\n",
      "100%|██████████| 8/8 [00:07<00:00,  1.10it/s]\n",
      "100%|██████████| 8/8 [00:07<00:00,  1.04it/s]\n",
      "100%|██████████| 8/8 [00:05<00:00,  1.34it/s]\n",
      "100%|██████████| 8/8 [00:07<00:00,  1.03it/s]\n",
      "100%|██████████| 8/8 [00:07<00:00,  1.11it/s]\n",
      "100%|██████████| 8/8 [00:08<00:00,  1.04s/it]\n",
      "100%|██████████| 8/8 [00:10<00:00,  1.30s/it]\n",
      "100%|██████████| 8/8 [00:04<00:00,  1.63it/s]\n",
      "100%|██████████| 8/8 [00:09<00:00,  1.19s/it]\n",
      "100%|██████████| 8/8 [00:05<00:00,  1.43it/s]\n",
      "100%|██████████| 8/8 [00:06<00:00,  1.32it/s]\n",
      "100%|██████████| 8/8 [00:08<00:00,  1.06s/it]\n",
      "100%|██████████| 8/8 [00:05<00:00,  1.35it/s]\n",
      "100%|██████████| 8/8 [00:09<00:00,  1.13s/it]\n",
      "100%|██████████| 8/8 [00:07<00:00,  1.04it/s]\n",
      "100%|██████████| 8/8 [00:07<00:00,  1.01it/s]\n",
      "100%|██████████| 8/8 [00:06<00:00,  1.17it/s]\n",
      "100%|██████████| 8/8 [00:07<00:00,  1.08it/s]\n",
      "100%|██████████| 8/8 [00:06<00:00,  1.28it/s]\n",
      "100%|██████████| 8/8 [00:07<00:00,  1.14it/s]\n",
      "100%|██████████| 8/8 [00:07<00:00,  1.03it/s]\n",
      "100%|██████████| 8/8 [00:08<00:00,  1.05s/it]\n",
      "100%|██████████| 8/8 [00:07<00:00,  1.05it/s]\n",
      "100%|██████████| 8/8 [00:07<00:00,  1.10it/s]\n",
      "100%|██████████| 8/8 [00:07<00:00,  1.04it/s]\n",
      "100%|██████████| 8/8 [00:07<00:00,  1.00it/s]\n",
      "100%|██████████| 8/8 [00:06<00:00,  1.33it/s]\n",
      "100%|██████████| 8/8 [00:08<00:00,  1.11s/it]\n",
      "100%|██████████| 8/8 [00:12<00:00,  1.51s/it]\n",
      "100%|██████████| 8/8 [00:09<00:00,  1.24s/it]\n",
      "100%|██████████| 8/8 [00:12<00:00,  1.54s/it]\n",
      "100%|██████████| 8/8 [00:13<00:00,  1.64s/it]\n",
      "100%|██████████| 8/8 [00:11<00:00,  1.44s/it]\n",
      "100%|██████████| 8/8 [00:08<00:00,  1.03s/it]\n",
      "100%|██████████| 8/8 [00:07<00:00,  1.12it/s]\n",
      "100%|██████████| 8/8 [00:08<00:00,  1.00s/it]\n",
      "100%|██████████| 8/8 [00:06<00:00,  1.31it/s]\n",
      "100%|██████████| 8/8 [00:06<00:00,  1.20it/s]\n",
      "100%|██████████| 8/8 [00:06<00:00,  1.18it/s]\n",
      "100%|██████████| 8/8 [00:05<00:00,  1.52it/s]\n",
      "100%|██████████| 8/8 [00:06<00:00,  1.18it/s]\n",
      "100%|██████████| 8/8 [00:05<00:00,  1.54it/s]\n",
      "100%|██████████| 8/8 [00:05<00:00,  1.46it/s]\n",
      "100%|██████████| 8/8 [00:07<00:00,  1.12it/s]\n",
      "100%|██████████| 8/8 [00:08<00:00,  1.08s/it]\n",
      "100%|██████████| 8/8 [00:06<00:00,  1.20it/s]\n",
      "100%|██████████| 8/8 [00:07<00:00,  1.03it/s]\n",
      "100%|██████████| 8/8 [00:08<00:00,  1.04s/it]\n",
      "100%|██████████| 8/8 [00:09<00:00,  1.21s/it]\n",
      "100%|██████████| 8/8 [00:08<00:00,  1.10s/it]\n",
      "100%|██████████| 8/8 [00:07<00:00,  1.06it/s]\n",
      "100%|██████████| 8/8 [00:06<00:00,  1.28it/s]\n",
      "100%|██████████| 8/8 [00:05<00:00,  1.35it/s]\n",
      "100%|██████████| 8/8 [00:06<00:00,  1.23it/s]\n",
      "100%|██████████| 8/8 [00:06<00:00,  1.27it/s]\n",
      "100%|██████████| 8/8 [00:05<00:00,  1.39it/s]\n",
      "100%|██████████| 4/4 [00:02<00:00,  1.76it/s]\n"
     ]
    },
    {
     "name": "stdout",
     "output_type": "stream",
     "text": [
      "\n",
      "WER: 14.292374\n"
     ]
    }
   ],
   "source": [
    "# Preprocessing the datasets.\n",
    "# We need to read the aduio files as arrays\n",
    "def evaluate(batch):\n",
    "  inputs = processor(batch[\"speech\"], sampling_rate=16_000, return_tensors=\"pt\", padding=True)\n",
    "\n",
    "  with torch.no_grad():\n",
    "    logits = model(inputs.input_values.to(\"cuda\"), attention_mask=inputs.attention_mask.to(\"cuda\")).logits\n",
    "\n",
    "  pred_ids = torch.argmax(logits, dim=-1)\n",
    "  batch[\"pred_strings\"] = processor.batch_decode(pred_ids)\n",
    "  batch[\"lm_pred_strings\"] = decoder.decode_batch(logits.cpu().numpy())\n",
    "  return batch\n",
    "\n",
    "result = test_dataset.map(evaluate, batched=True, batch_size=8)\n",
    "\n",
    "print(\"WER: {:2f}\".format(100 * wer.compute(predictions=result[\"pred_strings\"], references=result[\"sentence\"])))"
   ]
  },
  {
   "cell_type": "code",
   "execution_count": 21,
   "metadata": {},
   "outputs": [
    {
     "data": {
      "text/plain": [
       "993657"
      ]
     },
     "execution_count": 21,
     "metadata": {},
     "output_type": "execute_result"
    }
   ],
   "source": [
    "result.to_csv(\"result.csv\")"
   ]
  },
  {
   "cell_type": "code",
   "execution_count": 20,
   "metadata": {},
   "outputs": [
    {
     "name": "stdout",
     "output_type": "stream",
     "text": [
      "WER: 24.948723\n"
     ]
    }
   ],
   "source": [
    "print(\"WER: {:2f}\".format(100 * wer.compute(predictions=result[\"lm_pred_strings\"], references=result[\"sentence\"])))"
   ]
  },
  {
   "cell_type": "code",
   "execution_count": null,
   "metadata": {
    "id": "QsTwlV_c-GsL"
   },
   "outputs": [],
   "source": [
    "print(\"LM Prediction: \", text)\n",
    "print(\"Prediction:\", processor.batch_decode(predicted_ids))\n",
    "print(\"Reference: \", test_dataset[:5][\"sentence\"])"
   ]
  },
  {
   "cell_type": "code",
   "execution_count": null,
   "metadata": {
    "id": "74oEEVtSBxGm"
   },
   "outputs": [],
   "source": []
  }
 ],
 "metadata": {
  "accelerator": "GPU",
  "colab": {
   "collapsed_sections": [],
   "name": "kenlm.ipynb",
   "private_outputs": true,
   "provenance": []
  },
  "kernelspec": {
   "display_name": "Python 3",
   "language": "python",
   "name": "python3"
  },
  "language_info": {
   "codemirror_mode": {
    "name": "ipython",
    "version": 3
   },
   "file_extension": ".py",
   "mimetype": "text/x-python",
   "name": "python",
   "nbconvert_exporter": "python",
   "pygments_lexer": "ipython3",
   "version": "3.8.5"
  }
 },
 "nbformat": 4,
 "nbformat_minor": 1
}
